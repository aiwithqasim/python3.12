{
 "cells": [
  {
   "cell_type": "code",
   "execution_count": 1,
   "id": "73c89a79",
   "metadata": {},
   "outputs": [
    {
     "name": "stdout",
     "output_type": "stream",
     "text": [
      "Hello World..!!\n"
     ]
    }
   ],
   "source": [
    "print(\"Hello World..!!\")"
   ]
  },
  {
   "cell_type": "code",
   "execution_count": null,
   "id": "eb4226c4",
   "metadata": {},
   "outputs": [],
   "source": [
    "# for (start, end, step) --> C++\n",
    "\n",
    "# syntax:\n",
    "#--------\n",
    "\n",
    "# for temp in collection:\n",
    "#     <for-body>\n",
    "\n",
    "# list, dictionary, range()"
   ]
  },
  {
   "cell_type": "code",
   "execution_count": null,
   "id": "d66c61b5",
   "metadata": {},
   "outputs": [
    {
     "name": "stdout",
     "output_type": "stream",
     "text": [
      "2\n",
      "4\n",
      "6\n"
     ]
    }
   ],
   "source": [
    "for temp in range(2,8,2):\n",
    "    print(temp)"
   ]
  },
  {
   "cell_type": "code",
   "execution_count": null,
   "id": "490d5f2f",
   "metadata": {},
   "outputs": [
    {
     "name": "stdout",
     "output_type": "stream",
     "text": [
      "karachi\n",
      "lahore\n",
      "islamabad\n"
     ]
    }
   ],
   "source": [
    "for temp in ['karachi', 'lahore', 'islamabad']:\n",
    "    print(temp)\n"
   ]
  },
  {
   "cell_type": "code",
   "execution_count": 9,
   "id": "c6080dc1",
   "metadata": {},
   "outputs": [
    {
     "name": "stdout",
     "output_type": "stream",
     "text": [
      "name --> qasim\n",
      "age --> 20\n",
      "height --> 172\n"
     ]
    }
   ],
   "source": [
    "# .keys(), .values(), .items()\n",
    "# .keys() by default\n",
    "for key, value in {\"name\":\"qasim\", 'age': 20, \"height\":172}.items():\n",
    "    print(key, \"-->\", value)"
   ]
  },
  {
   "cell_type": "markdown",
   "id": "f6359feb",
   "metadata": {},
   "source": [
    "### LIST"
   ]
  },
  {
   "cell_type": "code",
   "execution_count": 10,
   "id": "54358aa9",
   "metadata": {},
   "outputs": [],
   "source": [
    "cities = ['karachi', 'lahore', 'islamabad']"
   ]
  },
  {
   "cell_type": "code",
   "execution_count": 11,
   "id": "eddff88b",
   "metadata": {},
   "outputs": [],
   "source": [
    "cities.append(\"peshawar\")"
   ]
  },
  {
   "cell_type": "code",
   "execution_count": 12,
   "id": "b39eb885",
   "metadata": {},
   "outputs": [
    {
     "data": {
      "text/plain": [
       "['karachi', 'lahore', 'islamabad', 'peshawar']"
      ]
     },
     "execution_count": 12,
     "metadata": {},
     "output_type": "execute_result"
    }
   ],
   "source": [
    "cities"
   ]
  },
  {
   "cell_type": "code",
   "execution_count": 13,
   "id": "35392f59",
   "metadata": {},
   "outputs": [],
   "source": [
    "cities.remove(\"lahore\")"
   ]
  },
  {
   "cell_type": "code",
   "execution_count": 14,
   "id": "8d0b06b0",
   "metadata": {},
   "outputs": [
    {
     "data": {
      "text/plain": [
       "['karachi', 'islamabad', 'peshawar']"
      ]
     },
     "execution_count": 14,
     "metadata": {},
     "output_type": "execute_result"
    }
   ],
   "source": [
    "cities"
   ]
  },
  {
   "cell_type": "code",
   "execution_count": 15,
   "id": "7bb1bd40",
   "metadata": {},
   "outputs": [],
   "source": [
    "del cities[0]"
   ]
  },
  {
   "cell_type": "code",
   "execution_count": 16,
   "id": "26003739",
   "metadata": {},
   "outputs": [
    {
     "data": {
      "text/plain": [
       "['islamabad', 'peshawar']"
      ]
     },
     "execution_count": 16,
     "metadata": {},
     "output_type": "execute_result"
    }
   ],
   "source": [
    "cities"
   ]
  },
  {
   "cell_type": "code",
   "execution_count": 17,
   "id": "2fd62e5e",
   "metadata": {},
   "outputs": [],
   "source": [
    "cities.extend([\"karachi\", \"lahore\", \"multan\"])"
   ]
  },
  {
   "cell_type": "code",
   "execution_count": 18,
   "id": "ffcc1b6e",
   "metadata": {},
   "outputs": [
    {
     "data": {
      "text/plain": [
       "['islamabad', 'peshawar', 'karachi', 'lahore', 'multan']"
      ]
     },
     "execution_count": 18,
     "metadata": {},
     "output_type": "execute_result"
    }
   ],
   "source": [
    "cities"
   ]
  },
  {
   "cell_type": "code",
   "execution_count": 21,
   "id": "2e55fc5f",
   "metadata": {},
   "outputs": [
    {
     "data": {
      "text/plain": [
       "0"
      ]
     },
     "execution_count": 21,
     "metadata": {},
     "output_type": "execute_result"
    }
   ],
   "source": [
    "cities.count(\"Karachi\")"
   ]
  },
  {
   "cell_type": "code",
   "execution_count": null,
   "id": "ee718c0a",
   "metadata": {},
   "outputs": [],
   "source": [
    "# 2 methods\n",
    "# 1. Shallow copy aka reference by value\n",
    "# 2. Deep copy aka reference by index --> ASSIGNMENT\n",
    "\n",
    "cities_new = cities.copy()"
   ]
  },
  {
   "cell_type": "code",
   "execution_count": 23,
   "id": "652819f2",
   "metadata": {},
   "outputs": [
    {
     "data": {
      "text/plain": [
       "['islamabad', 'peshawar', 'karachi', 'lahore', 'multan']"
      ]
     },
     "execution_count": 23,
     "metadata": {},
     "output_type": "execute_result"
    }
   ],
   "source": [
    "cities_new"
   ]
  },
  {
   "cell_type": "code",
   "execution_count": 24,
   "id": "f59dc27d",
   "metadata": {},
   "outputs": [
    {
     "data": {
      "text/plain": [
       "['islamabad', 'peshawar', 'karachi', 'lahore', 'multan']"
      ]
     },
     "execution_count": 24,
     "metadata": {},
     "output_type": "execute_result"
    }
   ],
   "source": [
    "cities"
   ]
  },
  {
   "cell_type": "code",
   "execution_count": 25,
   "id": "12e7d31b",
   "metadata": {},
   "outputs": [],
   "source": [
    "cities[0] = \"ISLAMABAD\""
   ]
  },
  {
   "cell_type": "code",
   "execution_count": 26,
   "id": "a0b282fc",
   "metadata": {},
   "outputs": [
    {
     "data": {
      "text/plain": [
       "['islamabad', 'peshawar', 'karachi', 'lahore', 'multan']"
      ]
     },
     "execution_count": 26,
     "metadata": {},
     "output_type": "execute_result"
    }
   ],
   "source": [
    "cities_new"
   ]
  },
  {
   "cell_type": "code",
   "execution_count": 27,
   "id": "0aa7062a",
   "metadata": {},
   "outputs": [
    {
     "data": {
      "text/plain": [
       "['ISLAMABAD', 'peshawar', 'karachi', 'lahore', 'multan']"
      ]
     },
     "execution_count": 27,
     "metadata": {},
     "output_type": "execute_result"
    }
   ],
   "source": [
    "cities"
   ]
  },
  {
   "cell_type": "code",
   "execution_count": null,
   "id": "0dea9e76",
   "metadata": {},
   "outputs": [],
   "source": [
    "# TASK for LIST, TUPLES, DICTIONARY: \n",
    "# implement remainging methods first\n",
    "# implement all methods with 2 different lists, tuples, dictionary\n"
   ]
  },
  {
   "cell_type": "markdown",
   "id": "6cc73224",
   "metadata": {},
   "source": [
    "### TUPLES"
   ]
  },
  {
   "cell_type": "code",
   "execution_count": 29,
   "id": "df23e643",
   "metadata": {},
   "outputs": [],
   "source": [
    "tuple_immutable = ('qasim', 'hassan', 172)"
   ]
  },
  {
   "cell_type": "code",
   "execution_count": 30,
   "id": "357a9186",
   "metadata": {},
   "outputs": [
    {
     "ename": "TypeError",
     "evalue": "'tuple' object does not support item assignment",
     "output_type": "error",
     "traceback": [
      "\u001b[1;31m---------------------------------------------------------------------------\u001b[0m",
      "\u001b[1;31mTypeError\u001b[0m                                 Traceback (most recent call last)",
      "Cell \u001b[1;32mIn[30], line 1\u001b[0m\n\u001b[1;32m----> 1\u001b[0m \u001b[43mtuple_immutable\u001b[49m\u001b[43m[\u001b[49m\u001b[38;5;241;43m0\u001b[39;49m\u001b[43m]\u001b[49m \u001b[38;5;241m=\u001b[39m \u001b[38;5;124m'\u001b[39m\u001b[38;5;124mQASIM\u001b[39m\u001b[38;5;124m'\u001b[39m\n",
      "\u001b[1;31mTypeError\u001b[0m: 'tuple' object does not support item assignment"
     ]
    }
   ],
   "source": [
    "tuple_immutable[0] = 'QASIM'"
   ]
  },
  {
   "cell_type": "code",
   "execution_count": 31,
   "id": "4ef9e813",
   "metadata": {},
   "outputs": [
    {
     "data": {
      "text/plain": [
       "1"
      ]
     },
     "execution_count": 31,
     "metadata": {},
     "output_type": "execute_result"
    }
   ],
   "source": [
    "tuple_immutable.count('qasim')"
   ]
  },
  {
   "cell_type": "code",
   "execution_count": 33,
   "id": "bfe983a0",
   "metadata": {},
   "outputs": [
    {
     "data": {
      "text/plain": [
       "2"
      ]
     },
     "execution_count": 33,
     "metadata": {},
     "output_type": "execute_result"
    }
   ],
   "source": [
    "tuple_immutable.index(172)"
   ]
  },
  {
   "cell_type": "markdown",
   "id": "2903a1e7",
   "metadata": {},
   "source": [
    "### DICTIONARY"
   ]
  },
  {
   "cell_type": "code",
   "execution_count": 34,
   "id": "b0d84eb0",
   "metadata": {},
   "outputs": [],
   "source": [
    "bio_data = {\"name\":\"qasim\", 'age': 17, \"height\":172}"
   ]
  },
  {
   "cell_type": "code",
   "execution_count": 35,
   "id": "75cc07a4",
   "metadata": {},
   "outputs": [
    {
     "data": {
      "text/plain": [
       "dict_keys(['name', 'age', 'height'])"
      ]
     },
     "execution_count": 35,
     "metadata": {},
     "output_type": "execute_result"
    }
   ],
   "source": [
    "bio_data.keys()"
   ]
  },
  {
   "cell_type": "code",
   "execution_count": 36,
   "id": "00991716",
   "metadata": {},
   "outputs": [
    {
     "data": {
      "text/plain": [
       "dict_items([('name', 'qasim'), ('age', 17), ('height', 172)])"
      ]
     },
     "execution_count": 36,
     "metadata": {},
     "output_type": "execute_result"
    }
   ],
   "source": [
    "bio_data.items()"
   ]
  },
  {
   "cell_type": "code",
   "execution_count": 37,
   "id": "b5c0155e",
   "metadata": {},
   "outputs": [
    {
     "data": {
      "text/plain": [
       "dict_values(['qasim', 17, 172])"
      ]
     },
     "execution_count": 37,
     "metadata": {},
     "output_type": "execute_result"
    }
   ],
   "source": [
    "bio_data.values()"
   ]
  },
  {
   "cell_type": "code",
   "execution_count": null,
   "id": "70d76e39",
   "metadata": {},
   "outputs": [],
   "source": []
  }
 ],
 "metadata": {
  "kernelspec": {
   "display_name": "Python 3",
   "language": "python",
   "name": "python3"
  },
  "language_info": {
   "codemirror_mode": {
    "name": "ipython",
    "version": 3
   },
   "file_extension": ".py",
   "mimetype": "text/x-python",
   "name": "python",
   "nbconvert_exporter": "python",
   "pygments_lexer": "ipython3",
   "version": "3.12.4"
  }
 },
 "nbformat": 4,
 "nbformat_minor": 5
}
